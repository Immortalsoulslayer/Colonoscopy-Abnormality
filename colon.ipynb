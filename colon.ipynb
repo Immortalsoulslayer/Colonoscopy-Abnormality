{
 "cells": [
  {
   "cell_type": "code",
   "execution_count": 1,
   "metadata": {},
   "outputs": [
    {
     "name": "stderr",
     "output_type": "stream",
     "text": [
      "2022-07-19 20:54:36.035475: I tensorflow/core/util/util.cc:169] oneDNN custom operations are on. You may see slightly different numerical results due to floating-point round-off errors from different computation orders. To turn them off, set the environment variable `TF_ENABLE_ONEDNN_OPTS=0`.\n"
     ]
    }
   ],
   "source": [
    "from tensorflow import lite\n",
    "import tensorflow as tf\n",
    "from tensorflow import keras\n",
    "from tensorflow.keras import layers\n",
    "import numpy as np\n",
    "import pandas as pd\n",
    "import random, os\n",
    "import shutil\n",
    "import matplotlib.pyplot as plt\n",
    "from matplotlib.image import imread\n",
    "from keras.preprocessing.image import ImageDataGenerator\n",
    "from tensorflow.keras.metrics import categorical_accuracy\n",
    "from sklearn.model_selection import train_test_split"
   ]
  },
  {
   "cell_type": "code",
   "execution_count": 2,
   "metadata": {},
   "outputs": [],
   "source": [
    "df = pd.read_csv('Training_set.csv')"
   ]
  },
  {
   "cell_type": "code",
   "execution_count": 3,
   "metadata": {},
   "outputs": [
    {
     "data": {
      "text/plain": [
       "<AxesSubplot:>"
      ]
     },
     "execution_count": 3,
     "metadata": {},
     "output_type": "execute_result"
    },
    {
     "data": {
      "image/png": "[encoded data removed]",
      "text/plain": [
       "<Figure size 432x288 with 1 Axes>"
      ]
     },
     "metadata": {
      "needs_background": "light"
     },
     "output_type": "display_data"
    }
   ],
   "source": [
    "df['label'].value_counts().plot(kind='barh')"
   ]
  },
  {
   "cell_type": "code",
   "execution_count": 4,
   "metadata": {},
   "outputs": [
    {
     "data": {
      "text/html": [
       "<div>\n",
       "<style scoped>\n",
       "    .dataframe tbody tr th:only-of-type {\n",
       "        vertical-align: middle;\n",
       "    }\n",
       "\n",
       "    .dataframe tbody tr th {\n",
       "        vertical-align: top;\n",
       "    }\n",
       "\n",
       "    .dataframe thead th {\n",
       "        text-align: right;\n",
       "    }\n",
       "</style>\n",
       "<table border=\"1\" class=\"dataframe\">\n",
       "  <thead>\n",
       "    <tr style=\"text-align: right;\">\n",
       "      <th></th>\n",
       "      <th>filename</th>\n",
       "      <th>label</th>\n",
       "      <th>binary_diagnosis</th>\n",
       "    </tr>\n",
       "  </thead>\n",
       "  <tbody>\n",
       "    <tr>\n",
       "      <th>0</th>\n",
       "      <td>Image_1.jpg</td>\n",
       "      <td>Normal clean mucosa</td>\n",
       "      <td>Normal clean mucosa</td>\n",
       "    </tr>\n",
       "    <tr>\n",
       "      <th>1</th>\n",
       "      <td>Image_2.jpg</td>\n",
       "      <td>Normal clean mucosa</td>\n",
       "      <td>Normal clean mucosa</td>\n",
       "    </tr>\n",
       "    <tr>\n",
       "      <th>3</th>\n",
       "      <td>Image_4.jpg</td>\n",
       "      <td>Normal clean mucosa</td>\n",
       "      <td>Normal clean mucosa</td>\n",
       "    </tr>\n",
       "    <tr>\n",
       "      <th>4</th>\n",
       "      <td>Image_5.jpg</td>\n",
       "      <td>Normal clean mucosa</td>\n",
       "      <td>Normal clean mucosa</td>\n",
       "    </tr>\n",
       "    <tr>\n",
       "      <th>5</th>\n",
       "      <td>Image_6.jpg</td>\n",
       "      <td>Normal clean mucosa</td>\n",
       "      <td>Normal clean mucosa</td>\n",
       "    </tr>\n",
       "    <tr>\n",
       "      <th>...</th>\n",
       "      <td>...</td>\n",
       "      <td>...</td>\n",
       "      <td>...</td>\n",
       "    </tr>\n",
       "    <tr>\n",
       "      <th>37779</th>\n",
       "      <td>Image_37780.jpg</td>\n",
       "      <td>Normal clean mucosa</td>\n",
       "      <td>Normal clean mucosa</td>\n",
       "    </tr>\n",
       "    <tr>\n",
       "      <th>37780</th>\n",
       "      <td>Image_37781.jpg</td>\n",
       "      <td>Normal clean mucosa</td>\n",
       "      <td>Normal clean mucosa</td>\n",
       "    </tr>\n",
       "    <tr>\n",
       "      <th>37785</th>\n",
       "      <td>Image_37786.jpg</td>\n",
       "      <td>Normal clean mucosa</td>\n",
       "      <td>Normal clean mucosa</td>\n",
       "    </tr>\n",
       "    <tr>\n",
       "      <th>37786</th>\n",
       "      <td>Image_37787.jpg</td>\n",
       "      <td>Normal clean mucosa</td>\n",
       "      <td>Normal clean mucosa</td>\n",
       "    </tr>\n",
       "    <tr>\n",
       "      <th>37787</th>\n",
       "      <td>Image_37788.jpg</td>\n",
       "      <td>Normal clean mucosa</td>\n",
       "      <td>Normal clean mucosa</td>\n",
       "    </tr>\n",
       "  </tbody>\n",
       "</table>\n",
       "<p>27470 rows × 3 columns</p>\n",
       "</div>"
      ],
      "text/plain": [
       "              filename                label     binary_diagnosis\n",
       "0          Image_1.jpg  Normal clean mucosa  Normal clean mucosa\n",
       "1          Image_2.jpg  Normal clean mucosa  Normal clean mucosa\n",
       "3          Image_4.jpg  Normal clean mucosa  Normal clean mucosa\n",
       "4          Image_5.jpg  Normal clean mucosa  Normal clean mucosa\n",
       "5          Image_6.jpg  Normal clean mucosa  Normal clean mucosa\n",
       "...                ...                  ...                  ...\n",
       "37779  Image_37780.jpg  Normal clean mucosa  Normal clean mucosa\n",
       "37780  Image_37781.jpg  Normal clean mucosa  Normal clean mucosa\n",
       "37785  Image_37786.jpg  Normal clean mucosa  Normal clean mucosa\n",
       "37786  Image_37787.jpg  Normal clean mucosa  Normal clean mucosa\n",
       "37787  Image_37788.jpg  Normal clean mucosa  Normal clean mucosa\n",
       "\n",
       "[27470 rows x 3 columns]"
      ]
     },
     "execution_count": 4,
     "metadata": {},
     "output_type": "execute_result"
    }
   ],
   "source": [
    "df[\"binary_diagnosis\"]=df[\"label\"]\n",
    "df[df.binary_diagnosis == \"Normal clean mucosa\"]"
   ]
  },
  {
   "cell_type": "code",
   "execution_count": 5,
   "metadata": {},
   "outputs": [],
   "source": [
    "def change(a):\n",
    "    if a == \"Normal clean mucosa\":\n",
    "        a = \"NO_AB\"\n",
    "    else:\n",
    "        a = \"AB\"\n",
    "    return a"
   ]
  },
  {
   "cell_type": "code",
   "execution_count": 6,
   "metadata": {},
   "outputs": [],
   "source": [
    "df['binary_diagnosis'] = df['binary_diagnosis'].apply(change)"
   ]
  },
  {
   "cell_type": "code",
   "execution_count": 7,
   "metadata": {},
   "outputs": [
    {
     "data": {
      "text/html": [
       "<div>\n",
       "<style scoped>\n",
       "    .dataframe tbody tr th:only-of-type {\n",
       "        vertical-align: middle;\n",
       "    }\n",
       "\n",
       "    .dataframe tbody tr th {\n",
       "        vertical-align: top;\n",
       "    }\n",
       "\n",
       "    .dataframe thead th {\n",
       "        text-align: right;\n",
       "    }\n",
       "</style>\n",
       "<table border=\"1\" class=\"dataframe\">\n",
       "  <thead>\n",
       "    <tr style=\"text-align: right;\">\n",
       "      <th></th>\n",
       "      <th>filename</th>\n",
       "      <th>label</th>\n",
       "      <th>binary_diagnosis</th>\n",
       "    </tr>\n",
       "  </thead>\n",
       "  <tbody>\n",
       "    <tr>\n",
       "      <th>0</th>\n",
       "      <td>Image_1.jpg</td>\n",
       "      <td>Normal clean mucosa</td>\n",
       "      <td>NO_AB</td>\n",
       "    </tr>\n",
       "    <tr>\n",
       "      <th>1</th>\n",
       "      <td>Image_2.jpg</td>\n",
       "      <td>Normal clean mucosa</td>\n",
       "      <td>NO_AB</td>\n",
       "    </tr>\n",
       "    <tr>\n",
       "      <th>2</th>\n",
       "      <td>Image_3.jpg</td>\n",
       "      <td>Foreign body</td>\n",
       "      <td>AB</td>\n",
       "    </tr>\n",
       "    <tr>\n",
       "      <th>3</th>\n",
       "      <td>Image_4.jpg</td>\n",
       "      <td>Normal clean mucosa</td>\n",
       "      <td>NO_AB</td>\n",
       "    </tr>\n",
       "    <tr>\n",
       "      <th>4</th>\n",
       "      <td>Image_5.jpg</td>\n",
       "      <td>Normal clean mucosa</td>\n",
       "      <td>NO_AB</td>\n",
       "    </tr>\n",
       "    <tr>\n",
       "      <th>...</th>\n",
       "      <td>...</td>\n",
       "      <td>...</td>\n",
       "      <td>...</td>\n",
       "    </tr>\n",
       "    <tr>\n",
       "      <th>37785</th>\n",
       "      <td>Image_37786.jpg</td>\n",
       "      <td>Normal clean mucosa</td>\n",
       "      <td>NO_AB</td>\n",
       "    </tr>\n",
       "    <tr>\n",
       "      <th>37786</th>\n",
       "      <td>Image_37787.jpg</td>\n",
       "      <td>Normal clean mucosa</td>\n",
       "      <td>NO_AB</td>\n",
       "    </tr>\n",
       "    <tr>\n",
       "      <th>37787</th>\n",
       "      <td>Image_37788.jpg</td>\n",
       "      <td>Normal clean mucosa</td>\n",
       "      <td>NO_AB</td>\n",
       "    </tr>\n",
       "    <tr>\n",
       "      <th>37788</th>\n",
       "      <td>Image_37789.jpg</td>\n",
       "      <td>Ileocecal valve</td>\n",
       "      <td>AB</td>\n",
       "    </tr>\n",
       "    <tr>\n",
       "      <th>37789</th>\n",
       "      <td>Image_37790.jpg</td>\n",
       "      <td>Ileocecal valve</td>\n",
       "      <td>AB</td>\n",
       "    </tr>\n",
       "  </tbody>\n",
       "</table>\n",
       "<p>37790 rows × 3 columns</p>\n",
       "</div>"
      ],
      "text/plain": [
       "              filename                label binary_diagnosis\n",
       "0          Image_1.jpg  Normal clean mucosa            NO_AB\n",
       "1          Image_2.jpg  Normal clean mucosa            NO_AB\n",
       "2          Image_3.jpg         Foreign body               AB\n",
       "3          Image_4.jpg  Normal clean mucosa            NO_AB\n",
       "4          Image_5.jpg  Normal clean mucosa            NO_AB\n",
       "...                ...                  ...              ...\n",
       "37785  Image_37786.jpg  Normal clean mucosa            NO_AB\n",
       "37786  Image_37787.jpg  Normal clean mucosa            NO_AB\n",
       "37787  Image_37788.jpg  Normal clean mucosa            NO_AB\n",
       "37788  Image_37789.jpg      Ileocecal valve               AB\n",
       "37789  Image_37790.jpg      Ileocecal valve               AB\n",
       "\n",
       "[37790 rows x 3 columns]"
      ]
     },
     "execution_count": 7,
     "metadata": {},
     "output_type": "execute_result"
    }
   ],
   "source": [
    "df.describe()\n",
    "df"
   ]
  },
  {
   "cell_type": "code",
   "execution_count": 8,
   "metadata": {},
   "outputs": [
    {
     "name": "stdout",
     "output_type": "stream",
     "text": [
      "Normal clean mucosa     19228\n",
      "Ileocecal valve          2345\n",
      "Reduced mucosal view     1627\n",
      "Pylorus                   856\n",
      "Angiectasia               485\n",
      "ulcer                     479\n",
      "Foreign body              435\n",
      "Lymphangiectasia          331\n",
      "Erosion                   283\n",
      "Blood - fresh             250\n",
      "Erythema                   89\n",
      "Polyp                      31\n",
      "Blood - hematin             7\n",
      "ampulla_of_vater            6\n",
      "Name: label, dtype: int64 \n",
      "\n",
      "Normal clean mucosa     4121\n",
      "Ileocecal valve          503\n",
      "Reduced mucosal view     349\n",
      "Pylorus                  184\n",
      "Angiectasia              104\n",
      "ulcer                    102\n",
      "Foreign body              93\n",
      "Lymphangiectasia          71\n",
      "Erosion                   61\n",
      "Blood - fresh             53\n",
      "Erythema                  19\n",
      "Polyp                      6\n",
      "Blood - hematin            2\n",
      "ampulla_of_vater           1\n",
      "Name: label, dtype: int64 \n",
      "\n",
      "Normal clean mucosa     4121\n",
      "Ileocecal valve          503\n",
      "Reduced mucosal view     349\n",
      "Pylorus                  183\n",
      "Angiectasia              104\n",
      "ulcer                    102\n",
      "Foreign body              93\n",
      "Lymphangiectasia          71\n",
      "Erosion                   61\n",
      "Blood - fresh             54\n",
      "Erythema                  19\n",
      "Polyp                      7\n",
      "ampulla_of_vater           1\n",
      "Blood - hematin            1\n",
      "Name: label, dtype: int64 \n",
      "\n"
     ]
    }
   ],
   "source": [
    "train_intermediate, val = train_test_split(df, test_size = 0.15, stratify = df['label'])\n",
    "train, test = train_test_split(train_intermediate, test_size = 0.15 / (1 - 0.15), stratify = train_intermediate['label'])\n",
    "\n",
    "print(train['label'].value_counts(), '\\n')\n",
    "print(test['label'].value_counts(), '\\n')\n",
    "print(val['label'].value_counts(), '\\n')"
   ]
  },
  {
   "cell_type": "code",
   "execution_count": 9,
   "metadata": {},
   "outputs": [],
   "source": [
    "base_dir = ''\n",
    "\n",
    "train_dir = os.path.join(base_dir, 'train')\n",
    "val_dir = os.path.join(base_dir, 'val')\n",
    "test_dir = os.path.join(base_dir, 'test')\n",
    "\n",
    "if os.path.exists(base_dir):\n",
    "    shutil.rmtree(base_dir)\n",
    "\n",
    "if os.path.exists(train_dir):\n",
    "    shutil.rmtree(train_dir)\n",
    "os.makedirs(train_dir)\n",
    "\n",
    "if os.path.exists(val_dir):\n",
    "    shutil.rmtree(val_dir)\n",
    "os.makedirs(val_dir)\n",
    "\n",
    "if os.path.exists(test_dir):\n",
    "    shutil.rmtree(test_dir)\n",
    "os.makedirs(test_dir)"
   ]
  },
  {
   "cell_type": "code",
   "execution_count": 10,
   "metadata": {},
   "outputs": [],
   "source": [
    "src_dir = 'archive'\n",
    "for index, row in train.iterrows():\n",
    "    \n",
    "    binary_diagnosis = row['binary_diagnosis']\n",
    "\n",
    "    filename = row['filename'] \n",
    "    srcfile = os.path.join(src_dir, filename)\n",
    "    dstfile = os.path.join(train_dir, binary_diagnosis)\n",
    "    os.makedirs(dstfile, exist_ok = True)\n",
    "    shutil.copy(srcfile, dstfile)\n",
    "\n",
    "for index, row in val.iterrows():\n",
    "    \n",
    "    binary_diagnosis = row['binary_diagnosis']\n",
    "\n",
    "    filename = row['filename'] \n",
    "    srcfile = os.path.join(src_dir, filename)\n",
    "    dstfile = os.path.join(val_dir, binary_diagnosis)\n",
    "\n",
    "    os.makedirs(dstfile, exist_ok = True)\n",
    "    shutil.copy(srcfile, dstfile)\n",
    " \n",
    "for index, row in test.iterrows():\n",
    "    \n",
    "    binary_diagnosis = row['binary_diagnosis']\n",
    "\n",
    "    filename = row['filename'] \n",
    "    srcfile = os.path.join(src_dir, filename)\n",
    "    dstfile = os.path.join(test_dir, binary_diagnosis)\n",
    "    \n",
    "    os.makedirs(dstfile, exist_ok = True)\n",
    "    shutil.copy(srcfile, dstfile)"
   ]
  },
  {
   "cell_type": "code",
   "execution_count": 11,
   "metadata": {},
   "outputs": [
    {
     "name": "stdout",
     "output_type": "stream",
     "text": [
      "Found 26452 images belonging to 2 classes.\n",
      "Found 5669 images belonging to 2 classes.\n",
      "Found 5669 images belonging to 2 classes.\n"
     ]
    }
   ],
   "source": [
    "train_path = 'train'\n",
    "val_path = 'val'\n",
    "test_path = 'test'\n",
    "\n",
    "train_batches = ImageDataGenerator(rescale = 1./255).flow_from_directory(train_path, target_size=(224,224), shuffle = True)\n",
    "val_batches = ImageDataGenerator(rescale = 1./255).flow_from_directory(val_path, target_size=(224,224), shuffle = True)\n",
    "test_batches = ImageDataGenerator(rescale = 1./255).flow_from_directory(test_path, target_size=(224,224), shuffle = False)"
   ]
  },
  {
   "cell_type": "code",
   "execution_count": null,
   "metadata": {},
   "outputs": [],
   "source": [
    "model = tf.keras.Sequential([\n",
    "    layers.Conv2D(8, (3,3), padding=\"valid\", input_shape=(224,224,3), activation = 'relu'),\n",
    "    layers.MaxPooling2D(pool_size=(2,2)),\n",
    "    layers.BatchNormalization(),\n",
    "    \n",
    "    layers.Conv2D(16, (3,3), padding=\"valid\", activation = 'relu'),\n",
    "    layers.MaxPooling2D(pool_size=(2,2)),\n",
    "    layers.BatchNormalization(),\n",
    "    \n",
    "    layers.Conv2D(32, (3,3), padding=\"valid\", activation = 'sigmoid'),\n",
    "    layers.MaxPooling2D(pool_size=(2,2)),\n",
    "    layers.BatchNormalization(),\n",
    "\n",
    "    layers.Conv2D(64, (3,3), padding=\"valid\", activation = 'relu'),\n",
    "    layers.MaxPooling2D(pool_size=(2,2)),\n",
    "    layers.BatchNormalization(),\n",
    "\n",
    "    layers.Conv2D(128, (4,4), padding=\"valid\", activation = 'relu'),\n",
    "    layers.MaxPooling2D(pool_size=(2,2)),\n",
    "    layers.BatchNormalization(),\n",
    " \n",
    "    layers.Flatten(),\n",
    "    layers.Dense(128, activation = 'relu'),\n",
    "    layers.Dropout(0.27),\n",
    "    layers.Dense(2, activation = 'softmax')\n",
    "])\n",
    "\n",
    "model.compile(optimizer=tf.keras.optimizers.Adam(lr = 1e-5),\n",
    "              loss=tf.keras.losses.BinaryCrossentropy(),\n",
    "              metrics=['acc'])\n",
    "\n",
    "history = model.fit(train_batches,\n",
    "                    epochs=100,\n",
    "                    validation_data=val_batches)"
   ]
  },
  {
   "cell_type": "code",
   "execution_count": 13,
   "metadata": {},
   "outputs": [
    {
     "name": "stdout",
     "output_type": "stream",
     "text": [
      "  1/178 [..............................] - ETA: 12s - loss: 0.4741 - acc: 0.8438"
     ]
    },
    {
     "name": "stderr",
     "output_type": "stream",
     "text": [
      "/tmp/ipykernel_11131/3368063525.py:1: UserWarning: `Model.evaluate_generator` is deprecated and will be removed in a future version. Please use `Model.evaluate`, which supports generators.\n",
      "  loss, acc = model.evaluate_generator(test_batches, verbose=1)\n"
     ]
    },
    {
     "name": "stdout",
     "output_type": "stream",
     "text": [
      "178/178 [==============================] - 6s 32ms/step - loss: 0.1944 - acc: 0.9249\n",
      "Accuracy:  0.9248544573783875\n"
     ]
    }
   ],
   "source": [
    "loss, acc = model.evaluate_generator(test_batches, verbose=1)\n",
    "# print(\"Loss: \", loss)\n",
    "print(\"Accuracy: \", acc)"
   ]
  }
 ],
 "metadata": {
  "kernelspec": {
   "display_name": "Python 3.10.4 64-bit",
   "language": "python",
   "name": "python3"
  },
  "language_info": {
   "codemirror_mode": {
    "name": "ipython",
    "version": 3
   },
   "file_extension": ".py",
   "mimetype": "text/x-python",
   "name": "python",
   "nbconvert_exporter": "python",
   "pygments_lexer": "ipython3",
   "version": "3.10.4"
  },
  "orig_nbformat": 4,
  "vscode": {
   "interpreter": {
    "hash": "916dbcbb3f70747c44a77c7bcd40155683ae19c65e1c03b4aa3499c5328201f1"
   }
  }
 },
 "nbformat": 4,
 "nbformat_minor": 2
}
